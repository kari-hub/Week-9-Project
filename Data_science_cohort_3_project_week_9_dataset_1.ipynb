{
  "nbformat": 4,
  "nbformat_minor": 0,
  "metadata": {
    "colab": {
      "name": "Data_science_cohort_3_project_week_9_dataset_1.ipynb",
      "provenance": [],
      "toc_visible": true,
      "authorship_tag": "ABX9TyPBPu6KqUK5LQyIR+B2V/6E",
      "include_colab_link": true
    },
    "kernelspec": {
      "name": "python3",
      "display_name": "Python 3"
    }
  },
  "cells": [
    {
      "cell_type": "markdown",
      "metadata": {
        "id": "view-in-github",
        "colab_type": "text"
      },
      "source": [
        "<a href=\"https://colab.research.google.com/github/kari-hub/Week-9-Project/blob/master/Data_science_cohort_3_project_week_9_dataset_1.ipynb\" target=\"_parent\"><img src=\"https://colab.research.google.com/assets/colab-badge.svg\" alt=\"Open In Colab\"/></a>"
      ]
    },
    {
      "cell_type": "markdown",
      "metadata": {
        "id": "ldiq5p9FyWba",
        "colab_type": "text"
      },
      "source": [
        "# <font color=\"pink\">Titanic dataset.</font>\n"
      ]
    },
    {
      "cell_type": "markdown",
      "metadata": {
        "id": "-7f-Dp3K3WnA",
        "colab_type": "text"
      },
      "source": [
        "Titanic data consists of information on the passengers who were aboard the Titanic which sank. We are to use it to build a model to predict whether a passenger survived the accident or not."
      ]
    },
    {
      "cell_type": "markdown",
      "metadata": {
        "id": "AMNWd5VSyWSU",
        "colab_type": "text"
      },
      "source": [
        "## **Solution**\n",
        "\n"
      ]
    },
    {
      "cell_type": "markdown",
      "metadata": {
        "id": "IvPloKg73TN6",
        "colab_type": "text"
      },
      "source": [
        "> We have been provided with a dataset containing information regarding the passengers. We will use it to carry out a series of analysis including data cleaning, univariate and bivariate analysis and apply K-Nearest Neighbours (kNN) and Naive Bayes to the models we will create."
      ]
    },
    {
      "cell_type": "markdown",
      "metadata": {
        "id": "9sk6H228yWJQ",
        "colab_type": "text"
      },
      "source": [
        "## Defining the question\n"
      ]
    },
    {
      "cell_type": "markdown",
      "metadata": {
        "id": "yPAxPgxbyWAG",
        "colab_type": "text"
      },
      "source": [
        "### a) Specifying the question\n",
        "\n"
      ]
    },
    {
      "cell_type": "markdown",
      "metadata": {
        "id": "qU2O9T_D1pi1",
        "colab_type": "text"
      },
      "source": [
        "> We have been provided with Titanic data consisting information on passengers on the Titanic ship. Use it to build a model that predicts whether a passenger survived the accident or not."
      ]
    },
    {
      "cell_type": "markdown",
      "metadata": {
        "id": "grk1YpbByV0h",
        "colab_type": "text"
      },
      "source": [
        "### b) Defining the metric of success\n",
        "\n"
      ]
    },
    {
      "cell_type": "markdown",
      "metadata": {
        "id": "7fU8QMOg7SD9",
        "colab_type": "text"
      },
      "source": [
        "> For our analysis, a precision, F1 score and accuracy score of below 60% is termed as a poor model, while 80% and above would be considered as a success and our model would be termed as an accurate model."
      ]
    },
    {
      "cell_type": "markdown",
      "metadata": {
        "id": "k7ypQ4RpyVn8",
        "colab_type": "text"
      },
      "source": [
        "### c) Understanding the context\n",
        "\n"
      ]
    },
    {
      "cell_type": "markdown",
      "metadata": {
        "id": "BYYG4W7r_iOB",
        "colab_type": "text"
      },
      "source": [
        " The columns in our data are explained as below:\n",
        " \n",
        "> Survived - Survival (0 = No; 1 = Yes)\n",
        "\n",
        "> Pclass - Passenger Class (1 = 1st; 2 = 2nd; 3 = 3rd)\n",
        "\n",
        "> Name - Name\n",
        "\n",
        "> Sex - Sex\n",
        "\n",
        "> Age - Age\n",
        "\n",
        "> SibSp - Number of Siblings/Spouses Aboard\n",
        "\n",
        "> Parch - Number of Parents/Children Aboard\n",
        "\n",
        "> Ticket - Ticket Number\n",
        "\n",
        "> Fare - Passenger Fare (British pound)\n",
        "\n",
        "> Cabin - Cabin\n",
        "\n",
        "> Embarked - Port of Embarkation (C = Cherbourg; Q = Queenstown; S = Southampton)"
      ]
    },
    {
      "cell_type": "markdown",
      "metadata": {
        "id": "WpTUoSGoyVbh",
        "colab_type": "text"
      },
      "source": [
        "### d) Recording the experimental design\n",
        "\n"
      ]
    },
    {
      "cell_type": "markdown",
      "metadata": {
        "id": "bQADlDWp_kP2",
        "colab_type": "text"
      },
      "source": [
        " 1. Performing EDA.\n",
        " 2. Perform feature engineering if necessary.\n",
        " 3. Check for multicollinearity\n",
        " 4. Build the model\n",
        " 5. Calculate accuracy scores and mean squared errors.\n",
        " 6. Carry out model performance if necessary.\n",
        " 7. Record conclusions concerning the analysis."
      ]
    },
    {
      "cell_type": "markdown",
      "metadata": {
        "id": "G9xrHprzyVLM",
        "colab_type": "text"
      },
      "source": [
        "### e) Data Relevance\n",
        "\n"
      ]
    },
    {
      "cell_type": "markdown",
      "metadata": {
        "id": "Uwk20BTP_omr",
        "colab_type": "text"
      },
      "source": [
        "> The data provided is relevant to the analysis we are about to conduct."
      ]
    },
    {
      "cell_type": "markdown",
      "metadata": {
        "id": "zXf5NhXRyU9F",
        "colab_type": "text"
      },
      "source": [
        "### f) Appropriateness of data\n",
        "\n"
      ]
    },
    {
      "cell_type": "markdown",
      "metadata": {
        "id": "sytTtIJLDLj3",
        "colab_type": "text"
      },
      "source": [
        "> Our data requires some data cleaning procedures before builidng our prediction models."
      ]
    },
    {
      "cell_type": "markdown",
      "metadata": {
        "id": "RVB8FdCU0_c2",
        "colab_type": "text"
      },
      "source": [
        "## Reading the data\n",
        "\n"
      ]
    },
    {
      "cell_type": "code",
      "metadata": {
        "id": "RmMQBTdU8sJ7",
        "colab_type": "code",
        "colab": {}
      },
      "source": [
        "# Importing libraries that will use in our notebook\n",
        "\n",
        "import pandas as pd\n",
        "import numpy as np\n",
        "import matplotlib.pyplot as plt\n",
        "import seaborn as sns\n",
        "from sklearn.preprocessing import LabelEncoder\n",
        "from sklearn.preprocessing import StandardScaler\n",
        "from sklearn.model_selection import train_test_split\n",
        "from sklearn.ensemble import RandomForestClassifier\n",
        "from sklearn.neighbors import KNeighborsClassifier\n",
        "from sklearn.discriminant_analysis import LinearDiscriminantAnalysis as LDA\n",
        "from sklearn.metrics import mean_squared_error\n",
        "from sklearn.metrics import confusion_matrix\n",
        "from sklearn.metrics import accuracy_score\n"
      ],
      "execution_count": 214,
      "outputs": []
    },
    {
      "cell_type": "code",
      "metadata": {
        "id": "ZxEAUn5scnRM",
        "colab_type": "code",
        "colab": {}
      },
      "source": [
        "# Lading our training dataset\n",
        "\n",
        "titan = pd.read_csv('/content/train (5).csv')\n"
      ],
      "execution_count": null,
      "outputs": []
    },
    {
      "cell_type": "markdown",
      "metadata": {
        "id": "jXc7TI0s1Fss",
        "colab_type": "text"
      },
      "source": [
        "## Checking Data\n",
        "\n"
      ]
    },
    {
      "cell_type": "code",
      "metadata": {
        "id": "VQvybruTGWXh",
        "colab_type": "code",
        "colab": {
          "base_uri": "https://localhost:8080/",
          "height": 255
        },
        "outputId": "67c8dc0b-e965-4ab5-b0c9-5ca5bfae7dc6"
      },
      "source": [
        "# Previewing the top of our train dataset\n",
        "\n",
        "titan.head()"
      ],
      "execution_count": null,
      "outputs": [
        {
          "output_type": "execute_result",
          "data": {
            "text/html": [
              "<div>\n",
              "<style scoped>\n",
              "    .dataframe tbody tr th:only-of-type {\n",
              "        vertical-align: middle;\n",
              "    }\n",
              "\n",
              "    .dataframe tbody tr th {\n",
              "        vertical-align: top;\n",
              "    }\n",
              "\n",
              "    .dataframe thead th {\n",
              "        text-align: right;\n",
              "    }\n",
              "</style>\n",
              "<table border=\"1\" class=\"dataframe\">\n",
              "  <thead>\n",
              "    <tr style=\"text-align: right;\">\n",
              "      <th></th>\n",
              "      <th>PassengerId</th>\n",
              "      <th>Survived</th>\n",
              "      <th>Pclass</th>\n",
              "      <th>Name</th>\n",
              "      <th>Sex</th>\n",
              "      <th>Age</th>\n",
              "      <th>SibSp</th>\n",
              "      <th>Parch</th>\n",
              "      <th>Ticket</th>\n",
              "      <th>Fare</th>\n",
              "      <th>Cabin</th>\n",
              "      <th>Embarked</th>\n",
              "    </tr>\n",
              "  </thead>\n",
              "  <tbody>\n",
              "    <tr>\n",
              "      <th>0</th>\n",
              "      <td>1</td>\n",
              "      <td>0</td>\n",
              "      <td>3</td>\n",
              "      <td>Braund, Mr. Owen Harris</td>\n",
              "      <td>male</td>\n",
              "      <td>22.0</td>\n",
              "      <td>1</td>\n",
              "      <td>0</td>\n",
              "      <td>A/5 21171</td>\n",
              "      <td>7.2500</td>\n",
              "      <td>NaN</td>\n",
              "      <td>S</td>\n",
              "    </tr>\n",
              "    <tr>\n",
              "      <th>1</th>\n",
              "      <td>2</td>\n",
              "      <td>1</td>\n",
              "      <td>1</td>\n",
              "      <td>Cumings, Mrs. John Bradley (Florence Briggs Th...</td>\n",
              "      <td>female</td>\n",
              "      <td>38.0</td>\n",
              "      <td>1</td>\n",
              "      <td>0</td>\n",
              "      <td>PC 17599</td>\n",
              "      <td>71.2833</td>\n",
              "      <td>C85</td>\n",
              "      <td>C</td>\n",
              "    </tr>\n",
              "    <tr>\n",
              "      <th>2</th>\n",
              "      <td>3</td>\n",
              "      <td>1</td>\n",
              "      <td>3</td>\n",
              "      <td>Heikkinen, Miss. Laina</td>\n",
              "      <td>female</td>\n",
              "      <td>26.0</td>\n",
              "      <td>0</td>\n",
              "      <td>0</td>\n",
              "      <td>STON/O2. 3101282</td>\n",
              "      <td>7.9250</td>\n",
              "      <td>NaN</td>\n",
              "      <td>S</td>\n",
              "    </tr>\n",
              "    <tr>\n",
              "      <th>3</th>\n",
              "      <td>4</td>\n",
              "      <td>1</td>\n",
              "      <td>1</td>\n",
              "      <td>Futrelle, Mrs. Jacques Heath (Lily May Peel)</td>\n",
              "      <td>female</td>\n",
              "      <td>35.0</td>\n",
              "      <td>1</td>\n",
              "      <td>0</td>\n",
              "      <td>113803</td>\n",
              "      <td>53.1000</td>\n",
              "      <td>C123</td>\n",
              "      <td>S</td>\n",
              "    </tr>\n",
              "    <tr>\n",
              "      <th>4</th>\n",
              "      <td>5</td>\n",
              "      <td>0</td>\n",
              "      <td>3</td>\n",
              "      <td>Allen, Mr. William Henry</td>\n",
              "      <td>male</td>\n",
              "      <td>35.0</td>\n",
              "      <td>0</td>\n",
              "      <td>0</td>\n",
              "      <td>373450</td>\n",
              "      <td>8.0500</td>\n",
              "      <td>NaN</td>\n",
              "      <td>S</td>\n",
              "    </tr>\n",
              "  </tbody>\n",
              "</table>\n",
              "</div>"
            ],
            "text/plain": [
              "   PassengerId  Survived  Pclass  ...     Fare Cabin  Embarked\n",
              "0            1         0       3  ...   7.2500   NaN         S\n",
              "1            2         1       1  ...  71.2833   C85         C\n",
              "2            3         1       3  ...   7.9250   NaN         S\n",
              "3            4         1       1  ...  53.1000  C123         S\n",
              "4            5         0       3  ...   8.0500   NaN         S\n",
              "\n",
              "[5 rows x 12 columns]"
            ]
          },
          "metadata": {
            "tags": []
          },
          "execution_count": 4
        }
      ]
    },
    {
      "cell_type": "code",
      "metadata": {
        "id": "u_2rGheDG2wr",
        "colab_type": "code",
        "colab": {
          "base_uri": "https://localhost:8080/",
          "height": 221
        },
        "outputId": "6880ec85-9042-4671-eb05-9c7010944e70"
      },
      "source": [
        "# Previewing the bottom of our dataset\n",
        "\n",
        "titan.tail()\n"
      ],
      "execution_count": null,
      "outputs": [
        {
          "output_type": "execute_result",
          "data": {
            "text/html": [
              "<div>\n",
              "<style scoped>\n",
              "    .dataframe tbody tr th:only-of-type {\n",
              "        vertical-align: middle;\n",
              "    }\n",
              "\n",
              "    .dataframe tbody tr th {\n",
              "        vertical-align: top;\n",
              "    }\n",
              "\n",
              "    .dataframe thead th {\n",
              "        text-align: right;\n",
              "    }\n",
              "</style>\n",
              "<table border=\"1\" class=\"dataframe\">\n",
              "  <thead>\n",
              "    <tr style=\"text-align: right;\">\n",
              "      <th></th>\n",
              "      <th>PassengerId</th>\n",
              "      <th>Survived</th>\n",
              "      <th>Pclass</th>\n",
              "      <th>Name</th>\n",
              "      <th>Sex</th>\n",
              "      <th>Age</th>\n",
              "      <th>SibSp</th>\n",
              "      <th>Parch</th>\n",
              "      <th>Ticket</th>\n",
              "      <th>Fare</th>\n",
              "      <th>Cabin</th>\n",
              "      <th>Embarked</th>\n",
              "    </tr>\n",
              "  </thead>\n",
              "  <tbody>\n",
              "    <tr>\n",
              "      <th>886</th>\n",
              "      <td>887</td>\n",
              "      <td>0</td>\n",
              "      <td>2</td>\n",
              "      <td>Montvila, Rev. Juozas</td>\n",
              "      <td>male</td>\n",
              "      <td>27.0</td>\n",
              "      <td>0</td>\n",
              "      <td>0</td>\n",
              "      <td>211536</td>\n",
              "      <td>13.00</td>\n",
              "      <td>NaN</td>\n",
              "      <td>S</td>\n",
              "    </tr>\n",
              "    <tr>\n",
              "      <th>887</th>\n",
              "      <td>888</td>\n",
              "      <td>1</td>\n",
              "      <td>1</td>\n",
              "      <td>Graham, Miss. Margaret Edith</td>\n",
              "      <td>female</td>\n",
              "      <td>19.0</td>\n",
              "      <td>0</td>\n",
              "      <td>0</td>\n",
              "      <td>112053</td>\n",
              "      <td>30.00</td>\n",
              "      <td>B42</td>\n",
              "      <td>S</td>\n",
              "    </tr>\n",
              "    <tr>\n",
              "      <th>888</th>\n",
              "      <td>889</td>\n",
              "      <td>0</td>\n",
              "      <td>3</td>\n",
              "      <td>Johnston, Miss. Catherine Helen \"Carrie\"</td>\n",
              "      <td>female</td>\n",
              "      <td>NaN</td>\n",
              "      <td>1</td>\n",
              "      <td>2</td>\n",
              "      <td>W./C. 6607</td>\n",
              "      <td>23.45</td>\n",
              "      <td>NaN</td>\n",
              "      <td>S</td>\n",
              "    </tr>\n",
              "    <tr>\n",
              "      <th>889</th>\n",
              "      <td>890</td>\n",
              "      <td>1</td>\n",
              "      <td>1</td>\n",
              "      <td>Behr, Mr. Karl Howell</td>\n",
              "      <td>male</td>\n",
              "      <td>26.0</td>\n",
              "      <td>0</td>\n",
              "      <td>0</td>\n",
              "      <td>111369</td>\n",
              "      <td>30.00</td>\n",
              "      <td>C148</td>\n",
              "      <td>C</td>\n",
              "    </tr>\n",
              "    <tr>\n",
              "      <th>890</th>\n",
              "      <td>891</td>\n",
              "      <td>0</td>\n",
              "      <td>3</td>\n",
              "      <td>Dooley, Mr. Patrick</td>\n",
              "      <td>male</td>\n",
              "      <td>32.0</td>\n",
              "      <td>0</td>\n",
              "      <td>0</td>\n",
              "      <td>370376</td>\n",
              "      <td>7.75</td>\n",
              "      <td>NaN</td>\n",
              "      <td>Q</td>\n",
              "    </tr>\n",
              "  </tbody>\n",
              "</table>\n",
              "</div>"
            ],
            "text/plain": [
              "     PassengerId  Survived  Pclass  ...   Fare Cabin  Embarked\n",
              "886          887         0       2  ...  13.00   NaN         S\n",
              "887          888         1       1  ...  30.00   B42         S\n",
              "888          889         0       3  ...  23.45   NaN         S\n",
              "889          890         1       1  ...  30.00  C148         C\n",
              "890          891         0       3  ...   7.75   NaN         Q\n",
              "\n",
              "[5 rows x 12 columns]"
            ]
          },
          "metadata": {
            "tags": []
          },
          "execution_count": 7
        }
      ]
    },
    {
      "cell_type": "code",
      "metadata": {
        "id": "rR5-_X3HCjv9",
        "colab_type": "code",
        "colab": {
          "base_uri": "https://localhost:8080/",
          "height": 34
        },
        "outputId": "00c88e86-5810-44e5-8276-97cecffe056b"
      },
      "source": [
        "# Determining the number of records in our data\n",
        "\n",
        "titan.shape"
      ],
      "execution_count": null,
      "outputs": [
        {
          "output_type": "execute_result",
          "data": {
            "text/plain": [
              "(891, 12)"
            ]
          },
          "metadata": {
            "tags": []
          },
          "execution_count": 8
        }
      ]
    },
    {
      "cell_type": "code",
      "metadata": {
        "id": "8BOpGq09KonF",
        "colab_type": "code",
        "colab": {
          "base_uri": "https://localhost:8080/",
          "height": 340
        },
        "outputId": "6677c34e-16f7-4924-fce8-0f4255d0b018"
      },
      "source": [
        "# Determining the datatypes in our data\n",
        "\n",
        "titan.info()"
      ],
      "execution_count": null,
      "outputs": [
        {
          "output_type": "stream",
          "text": [
            "<class 'pandas.core.frame.DataFrame'>\n",
            "RangeIndex: 891 entries, 0 to 890\n",
            "Data columns (total 12 columns):\n",
            " #   Column       Non-Null Count  Dtype  \n",
            "---  ------       --------------  -----  \n",
            " 0   PassengerId  891 non-null    int64  \n",
            " 1   Survived     891 non-null    int64  \n",
            " 2   Pclass       891 non-null    int64  \n",
            " 3   Name         891 non-null    object \n",
            " 4   Sex          891 non-null    object \n",
            " 5   Age          714 non-null    float64\n",
            " 6   SibSp        891 non-null    int64  \n",
            " 7   Parch        891 non-null    int64  \n",
            " 8   Ticket       891 non-null    object \n",
            " 9   Fare         891 non-null    float64\n",
            " 10  Cabin        204 non-null    object \n",
            " 11  Embarked     889 non-null    object \n",
            "dtypes: float64(2), int64(5), object(5)\n",
            "memory usage: 83.7+ KB\n"
          ],
          "name": "stdout"
        }
      ]
    },
    {
      "cell_type": "markdown",
      "metadata": {
        "id": "XDs2bPVUySdR",
        "colab_type": "text"
      },
      "source": [
        "## Tidying the dataset"
      ]
    },
    {
      "cell_type": "code",
      "metadata": {
        "id": "N9JNgEwh45ui",
        "colab_type": "code",
        "colab": {
          "base_uri": "https://localhost:8080/",
          "height": 34
        },
        "outputId": "eab3ba94-16f1-401d-d5a7-03023d2e4190"
      },
      "source": [
        "# Checking for duplicates in our data\n",
        "\n",
        "titan.duplicated().sum()"
      ],
      "execution_count": null,
      "outputs": [
        {
          "output_type": "execute_result",
          "data": {
            "text/plain": [
              "0"
            ]
          },
          "metadata": {
            "tags": []
          },
          "execution_count": 13
        }
      ]
    },
    {
      "cell_type": "code",
      "metadata": {
        "id": "G2_KTCF96al_",
        "colab_type": "code",
        "colab": {
          "base_uri": "https://localhost:8080/",
          "height": 176
        },
        "outputId": "e3659b86-ac70-46d8-96d2-49e375f21d05"
      },
      "source": [
        "titan.head(3)"
      ],
      "execution_count": null,
      "outputs": [
        {
          "output_type": "execute_result",
          "data": {
            "text/html": [
              "<div>\n",
              "<style scoped>\n",
              "    .dataframe tbody tr th:only-of-type {\n",
              "        vertical-align: middle;\n",
              "    }\n",
              "\n",
              "    .dataframe tbody tr th {\n",
              "        vertical-align: top;\n",
              "    }\n",
              "\n",
              "    .dataframe thead th {\n",
              "        text-align: right;\n",
              "    }\n",
              "</style>\n",
              "<table border=\"1\" class=\"dataframe\">\n",
              "  <thead>\n",
              "    <tr style=\"text-align: right;\">\n",
              "      <th></th>\n",
              "      <th>PassengerId</th>\n",
              "      <th>Survived</th>\n",
              "      <th>Pclass</th>\n",
              "      <th>Name</th>\n",
              "      <th>Sex</th>\n",
              "      <th>Age</th>\n",
              "      <th>SibSp</th>\n",
              "      <th>Parch</th>\n",
              "      <th>Ticket</th>\n",
              "      <th>Fare</th>\n",
              "      <th>Cabin</th>\n",
              "      <th>Embarked</th>\n",
              "    </tr>\n",
              "  </thead>\n",
              "  <tbody>\n",
              "    <tr>\n",
              "      <th>0</th>\n",
              "      <td>1</td>\n",
              "      <td>0</td>\n",
              "      <td>3</td>\n",
              "      <td>Braund, Mr. Owen Harris</td>\n",
              "      <td>male</td>\n",
              "      <td>22.0</td>\n",
              "      <td>1</td>\n",
              "      <td>0</td>\n",
              "      <td>A/5 21171</td>\n",
              "      <td>7.2500</td>\n",
              "      <td>NaN</td>\n",
              "      <td>S</td>\n",
              "    </tr>\n",
              "    <tr>\n",
              "      <th>1</th>\n",
              "      <td>2</td>\n",
              "      <td>1</td>\n",
              "      <td>1</td>\n",
              "      <td>Cumings, Mrs. John Bradley (Florence Briggs Th...</td>\n",
              "      <td>female</td>\n",
              "      <td>38.0</td>\n",
              "      <td>1</td>\n",
              "      <td>0</td>\n",
              "      <td>PC 17599</td>\n",
              "      <td>71.2833</td>\n",
              "      <td>C85</td>\n",
              "      <td>C</td>\n",
              "    </tr>\n",
              "    <tr>\n",
              "      <th>2</th>\n",
              "      <td>3</td>\n",
              "      <td>1</td>\n",
              "      <td>3</td>\n",
              "      <td>Heikkinen, Miss. Laina</td>\n",
              "      <td>female</td>\n",
              "      <td>26.0</td>\n",
              "      <td>0</td>\n",
              "      <td>0</td>\n",
              "      <td>STON/O2. 3101282</td>\n",
              "      <td>7.9250</td>\n",
              "      <td>NaN</td>\n",
              "      <td>S</td>\n",
              "    </tr>\n",
              "  </tbody>\n",
              "</table>\n",
              "</div>"
            ],
            "text/plain": [
              "   PassengerId  Survived  Pclass  ...     Fare Cabin  Embarked\n",
              "0            1         0       3  ...   7.2500   NaN         S\n",
              "1            2         1       1  ...  71.2833   C85         C\n",
              "2            3         1       3  ...   7.9250   NaN         S\n",
              "\n",
              "[3 rows x 12 columns]"
            ]
          },
          "metadata": {
            "tags": []
          },
          "execution_count": 16
        }
      ]
    },
    {
      "cell_type": "code",
      "metadata": {
        "id": "ieHywwIR7SO0",
        "colab_type": "code",
        "colab": {
          "base_uri": "https://localhost:8080/",
          "height": 34
        },
        "outputId": "6825a7e3-abc9-4c11-ef73-a3045e4fe5bd"
      },
      "source": [
        "titan['Parch'].unique()"
      ],
      "execution_count": null,
      "outputs": [
        {
          "output_type": "execute_result",
          "data": {
            "text/plain": [
              "array([0, 1, 2, 5, 3, 4, 6])"
            ]
          },
          "metadata": {
            "tags": []
          },
          "execution_count": 18
        }
      ]
    },
    {
      "cell_type": "code",
      "metadata": {
        "id": "z-GMAVHA6LhD",
        "colab_type": "code",
        "colab": {
          "base_uri": "https://localhost:8080/",
          "height": 68
        },
        "outputId": "c7779040-d3d2-423e-a1bb-aaf5c3d3af39"
      },
      "source": [
        "# Checking our columns\n",
        "\n",
        "titan.columns"
      ],
      "execution_count": null,
      "outputs": [
        {
          "output_type": "execute_result",
          "data": {
            "text/plain": [
              "Index(['PassengerId', 'Survived', 'Pclass', 'Name', 'Sex', 'Age', 'SibSp',\n",
              "       'Parch', 'Ticket', 'Fare', 'Cabin', 'Embarked'],\n",
              "      dtype='object')"
            ]
          },
          "metadata": {
            "tags": []
          },
          "execution_count": 15
        }
      ]
    },
    {
      "cell_type": "code",
      "metadata": {
        "id": "B4s1b1Qb6Cef",
        "colab_type": "code",
        "colab": {
          "base_uri": "https://localhost:8080/",
          "height": 204
        },
        "outputId": "548347b3-2c24-444b-b4f3-37a3af25caa1"
      },
      "source": [
        "# Dropping unnecessary columns in our data\n",
        "\n",
        "titan = titan.drop(columns=['PassengerId', 'Name', 'Ticket', 'Cabin'])\n",
        "titan.head()"
      ],
      "execution_count": null,
      "outputs": [
        {
          "output_type": "execute_result",
          "data": {
            "text/html": [
              "<div>\n",
              "<style scoped>\n",
              "    .dataframe tbody tr th:only-of-type {\n",
              "        vertical-align: middle;\n",
              "    }\n",
              "\n",
              "    .dataframe tbody tr th {\n",
              "        vertical-align: top;\n",
              "    }\n",
              "\n",
              "    .dataframe thead th {\n",
              "        text-align: right;\n",
              "    }\n",
              "</style>\n",
              "<table border=\"1\" class=\"dataframe\">\n",
              "  <thead>\n",
              "    <tr style=\"text-align: right;\">\n",
              "      <th></th>\n",
              "      <th>Survived</th>\n",
              "      <th>Pclass</th>\n",
              "      <th>Sex</th>\n",
              "      <th>Age</th>\n",
              "      <th>SibSp</th>\n",
              "      <th>Parch</th>\n",
              "      <th>Fare</th>\n",
              "      <th>Embarked</th>\n",
              "    </tr>\n",
              "  </thead>\n",
              "  <tbody>\n",
              "    <tr>\n",
              "      <th>0</th>\n",
              "      <td>0</td>\n",
              "      <td>3</td>\n",
              "      <td>male</td>\n",
              "      <td>22.0</td>\n",
              "      <td>1</td>\n",
              "      <td>0</td>\n",
              "      <td>7.2500</td>\n",
              "      <td>S</td>\n",
              "    </tr>\n",
              "    <tr>\n",
              "      <th>1</th>\n",
              "      <td>1</td>\n",
              "      <td>1</td>\n",
              "      <td>female</td>\n",
              "      <td>38.0</td>\n",
              "      <td>1</td>\n",
              "      <td>0</td>\n",
              "      <td>71.2833</td>\n",
              "      <td>C</td>\n",
              "    </tr>\n",
              "    <tr>\n",
              "      <th>2</th>\n",
              "      <td>1</td>\n",
              "      <td>3</td>\n",
              "      <td>female</td>\n",
              "      <td>26.0</td>\n",
              "      <td>0</td>\n",
              "      <td>0</td>\n",
              "      <td>7.9250</td>\n",
              "      <td>S</td>\n",
              "    </tr>\n",
              "    <tr>\n",
              "      <th>3</th>\n",
              "      <td>1</td>\n",
              "      <td>1</td>\n",
              "      <td>female</td>\n",
              "      <td>35.0</td>\n",
              "      <td>1</td>\n",
              "      <td>0</td>\n",
              "      <td>53.1000</td>\n",
              "      <td>S</td>\n",
              "    </tr>\n",
              "    <tr>\n",
              "      <th>4</th>\n",
              "      <td>0</td>\n",
              "      <td>3</td>\n",
              "      <td>male</td>\n",
              "      <td>35.0</td>\n",
              "      <td>0</td>\n",
              "      <td>0</td>\n",
              "      <td>8.0500</td>\n",
              "      <td>S</td>\n",
              "    </tr>\n",
              "  </tbody>\n",
              "</table>\n",
              "</div>"
            ],
            "text/plain": [
              "   Survived  Pclass     Sex   Age  SibSp  Parch     Fare Embarked\n",
              "0         0       3    male  22.0      1      0   7.2500        S\n",
              "1         1       1  female  38.0      1      0  71.2833        C\n",
              "2         1       3  female  26.0      0      0   7.9250        S\n",
              "3         1       1  female  35.0      1      0  53.1000        S\n",
              "4         0       3    male  35.0      0      0   8.0500        S"
            ]
          },
          "metadata": {
            "tags": []
          },
          "execution_count": 19
        }
      ]
    },
    {
      "cell_type": "code",
      "metadata": {
        "id": "Q_ed9QpL5KxK",
        "colab_type": "code",
        "colab": {
          "base_uri": "https://localhost:8080/",
          "height": 170
        },
        "outputId": "8d9a9953-b958-49b9-da62-a24e56f2b21e"
      },
      "source": [
        "# Checking for missing values in our data\n",
        "\n",
        "titan.isnull().sum() "
      ],
      "execution_count": null,
      "outputs": [
        {
          "output_type": "execute_result",
          "data": {
            "text/plain": [
              "Survived      0\n",
              "Pclass        0\n",
              "Sex           0\n",
              "Age         177\n",
              "SibSp         0\n",
              "Parch         0\n",
              "Fare          0\n",
              "Embarked      2\n",
              "dtype: int64"
            ]
          },
          "metadata": {
            "tags": []
          },
          "execution_count": 20
        }
      ]
    },
    {
      "cell_type": "code",
      "metadata": {
        "id": "BlgsnbI_8YRO",
        "colab_type": "code",
        "colab": {
          "base_uri": "https://localhost:8080/",
          "height": 296
        },
        "outputId": "013c1de5-c8ad-4eb6-aaf4-43c4ef7cf227"
      },
      "source": [
        "# Imputing missing values\n",
        "# ---\n",
        "# Since the number of missing values in our age column are too many, we cannot drop them.\n",
        "# Instead, we will input the average values.\n",
        "# Let's look at how passenger age is related to their class as a passenger on the boat.\n",
        "# \n",
        "sns.boxplot(x='Pclass', y='Age', data=titan, palette='Set2')"
      ],
      "execution_count": null,
      "outputs": [
        {
          "output_type": "execute_result",
          "data": {
            "text/plain": [
              "<matplotlib.axes._subplots.AxesSubplot at 0x7f95d3f52b70>"
            ]
          },
          "metadata": {
            "tags": []
          },
          "execution_count": 61
        },
        {
          "output_type": "display_data",
          "data": {
            "image/png": "[encoded data removed]",
            "text/plain": [
              "<Figure size 432x288 with 1 Axes>"
            ]
          },
          "metadata": {
            "tags": [],
            "needs_background": "light"
          }
        }
      ]
    },
    {
      "cell_type": "code",
      "metadata": {
        "id": "KlND87Sg-W1R",
        "colab_type": "code",
        "colab": {}
      },
      "source": [
        "# From our observations, we can easily use the countplot above to fill the missing values in the age column\n",
        "# Most old people are seen to be in first class.\n",
        "# While in the second class, the mean age is approximately 30\n",
        "# In the third class, the average is about 25\n",
        "# So, let's write a function that approximates a passengers age, based on their class.\n",
        "\n",
        "def age_approx(cols):\n",
        "    Age = cols[0]\n",
        "    Pclass = cols[1]\n",
        "    \n",
        "    if pd.isnull(Age):\n",
        "        if Pclass == 1:\n",
        "            return 38\n",
        "        elif Pclass == 2:\n",
        "            return 30\n",
        "        else:\n",
        "            return 25\n",
        "    else:\n",
        "        return Age"
      ],
      "execution_count": null,
      "outputs": []
    },
    {
      "cell_type": "code",
      "metadata": {
        "id": "fj4liUX2ELhm",
        "colab_type": "code",
        "colab": {
          "base_uri": "https://localhost:8080/",
          "height": 170
        },
        "outputId": "e8566c07-83c9-4f63-afc3-a4b9957244a3"
      },
      "source": [
        "# When we apply the function and check again for null values, we see that there are no more null values in the age variable.\n",
        "#\n",
        "titan['Age'] = titan[['Age', 'Pclass']].apply(age_approx, axis=1)\n",
        "titan.isnull().sum()"
      ],
      "execution_count": null,
      "outputs": [
        {
          "output_type": "execute_result",
          "data": {
            "text/plain": [
              "Survived    0\n",
              "Pclass      0\n",
              "Sex         0\n",
              "Age         0\n",
              "SibSp       0\n",
              "Parch       0\n",
              "Fare        0\n",
              "Embarked    2\n",
              "dtype: int64"
            ]
          },
          "metadata": {
            "tags": []
          },
          "execution_count": 63
        }
      ]
    },
    {
      "cell_type": "code",
      "metadata": {
        "id": "JUI_Rot7FRyN",
        "colab_type": "code",
        "colab": {
          "base_uri": "https://localhost:8080/",
          "height": 170
        },
        "outputId": "c6f787b6-8a6e-4960-e693-c4d8f82c4782"
      },
      "source": [
        "# We can drop the remaining null values in the Embarked column since they are only two\n",
        "\n",
        "titan.dropna(axis=0, inplace=True)\n",
        "titan.isnull().sum()"
      ],
      "execution_count": null,
      "outputs": [
        {
          "output_type": "execute_result",
          "data": {
            "text/plain": [
              "Survived    0\n",
              "Pclass      0\n",
              "Sex         0\n",
              "Age         0\n",
              "SibSp       0\n",
              "Parch       0\n",
              "Fare        0\n",
              "Embarked    0\n",
              "dtype: int64"
            ]
          },
          "metadata": {
            "tags": []
          },
          "execution_count": 65
        }
      ]
    },
    {
      "cell_type": "code",
      "metadata": {
        "id": "F7E4hvrKXNOz",
        "colab_type": "code",
        "colab": {
          "base_uri": "https://localhost:8080/",
          "height": 34
        },
        "outputId": "7a4baabf-219f-4721-9809-00cc6616ebea"
      },
      "source": [
        "titan['Embarked'].unique()"
      ],
      "execution_count": null,
      "outputs": [
        {
          "output_type": "execute_result",
          "data": {
            "text/plain": [
              "array(['S', 'C', 'Q'], dtype=object)"
            ]
          },
          "metadata": {
            "tags": []
          },
          "execution_count": 66
        }
      ]
    },
    {
      "cell_type": "code",
      "metadata": {
        "id": "ec9NgFV4Wi1I",
        "colab_type": "code",
        "colab": {
          "base_uri": "https://localhost:8080/",
          "height": 170
        },
        "outputId": "ab873566-c03f-4796-8a29-8101afafe76d"
      },
      "source": [
        "# Changing the datatypes of our categorical data using Label encoder\n",
        "\n",
        "le =  LabelEncoder()\n",
        "\n",
        "titan['Embarked'] = le.fit_transform(titan['Embarked'])\n",
        "titan['Sex'] = le.fit_transform(titan['Sex'])\n",
        "\n",
        "titan.dtypes"
      ],
      "execution_count": null,
      "outputs": [
        {
          "output_type": "execute_result",
          "data": {
            "text/plain": [
              "Survived      int64\n",
              "Pclass        int64\n",
              "Sex           int64\n",
              "Age         float64\n",
              "SibSp         int64\n",
              "Parch         int64\n",
              "Fare        float64\n",
              "Embarked      int64\n",
              "dtype: object"
            ]
          },
          "metadata": {
            "tags": []
          },
          "execution_count": 69
        }
      ]
    },
    {
      "cell_type": "code",
      "metadata": {
        "id": "wX8tw1RqZG61",
        "colab_type": "code",
        "colab": {
          "base_uri": "https://localhost:8080/",
          "height": 1000
        },
        "outputId": "b449b750-8637-4420-d8fd-d30dfc8ea5b9"
      },
      "source": [
        "# Checking for anomalies\n",
        "\n",
        "def percentile_based_outlier(titan, threshold=95):\n",
        "  diff = (100 - threshold)/2\n",
        "  minval, maxval = np.percentile(titan, [diff, 100 - diff])\n",
        "  return (titan < minval) | (titan > maxval)\n",
        "\n",
        "col_names = ['Survived', 'Pclass', 'Sex', 'Age', 'SibSp', 'Parch', 'Fare', 'Embarked'] \n",
        "\n",
        "fig, ax = plt.subplots(len(col_names), figsize=(8, 24))\n",
        "\n",
        "for i, col_val in enumerate(col_names):\n",
        "  x = titan[col_val][:1000]\n",
        "  sns.distplot(x, ax=ax[i], rug=True, hist=True)\n",
        "  outliers = x[percentile_based_outlier(x)]\n",
        "  ax[i].plot(outliers, np.zeros_like(outliers), 'ro', clip_on=False)\n",
        "\n",
        "  ax[i].set_title(\"Outlier detection - {}\".format(col_val), fontsize=10)\n",
        "  ax[i].set_xlabel(col_val, fontsize=8)\n",
        "\n",
        "plt.show() "
      ],
      "execution_count": null,
      "outputs": [
        {
          "output_type": "display_data",
          "data": {
            "image/png": "[encoded data removed]",
            "text/plain": [
              "<Figure size 576x1728 with 8 Axes>"
            ]
          },
          "metadata": {
            "tags": [],
            "needs_background": "light"
          }
        }
      ]
    },
    {
      "cell_type": "code",
      "metadata": {
        "id": "ATpgeH4RarHK",
        "colab_type": "code",
        "colab": {}
      },
      "source": [
        "# Checking for outliers\n",
        "\n",
        "def detect_outlier(titan):\n",
        "  outliers = []\n",
        "  threshold = 3\n",
        "  mean_1 = np.mean(titan)\n",
        "  std_1 = np.std(titan)\n",
        "\n",
        "  for y in titan:\n",
        "    z_score = (y - mean_1)/std_1\n",
        "    if np.abs(z_score) > threshold:\n",
        "      outliers.append(y)\n",
        "  return outliers "
      ],
      "execution_count": null,
      "outputs": []
    },
    {
      "cell_type": "code",
      "metadata": {
        "id": "BseoiDEpbc2W",
        "colab_type": "code",
        "colab": {
          "base_uri": "https://localhost:8080/",
          "height": 153
        },
        "outputId": "5acd4027-ccbf-41ff-fc23-a9d9cbe8a1bb"
      },
      "source": [
        "# Counting the number of outliers in our data and their percentages\n",
        "\n",
        "for col in titan:\n",
        "  rows, columns = titan.shape\n",
        "  percent_coefficient = float(100 / rows)\n",
        "  outliers = detect_outlier(titan[col])\n",
        "  outliers_count = len(outliers)\n",
        "  outliers_percentage = outliers_count * percent_coefficient\n",
        "  print(f\"{col} has {outliers_count} outliers in total, which is{outliers_percentage:.2}% of data\" )"
      ],
      "execution_count": null,
      "outputs": [
        {
          "output_type": "stream",
          "text": [
            "Survived has 0 outliers in total, which is0.0% of data\n",
            "Pclass has 0 outliers in total, which is0.0% of data\n",
            "Sex has 0 outliers in total, which is0.0% of data\n",
            "Age has 7 outliers in total, which is0.79% of data\n",
            "SibSp has 30 outliers in total, which is3.4% of data\n",
            "Parch has 15 outliers in total, which is1.7% of data\n",
            "Fare has 20 outliers in total, which is2.2% of data\n",
            "Embarked has 0 outliers in total, which is0.0% of data\n"
          ],
          "name": "stdout"
        }
      ]
    },
    {
      "cell_type": "code",
      "metadata": {
        "id": "hNSyKMUwcIG8",
        "colab_type": "code",
        "colab": {
          "base_uri": "https://localhost:8080/",
          "height": 136
        },
        "outputId": "d3f3efa3-f283-41b1-ab7d-2635bc807a47"
      },
      "source": [
        "# Dropping outliers from our data\n",
        "from scipy import stats\n",
        "\n",
        "z = np.abs(stats.zscore(titan))\n",
        "print(z)"
      ],
      "execution_count": null,
      "outputs": [
        {
          "output_type": "stream",
          "text": [
            "[[0.78696114 0.82520863 0.73534203 ... 0.47432585 0.50023975 0.58683958]\n",
            " [1.27071078 1.57221121 1.35991138 ... 0.47432585 0.78894661 1.93955453]\n",
            " [1.27071078 0.82520863 1.35991138 ... 0.47432585 0.48664993 0.58683958]\n",
            " ...\n",
            " [0.78696114 0.82520863 1.35991138 ... 2.00611934 0.17408416 0.58683958]\n",
            " [1.27071078 1.57221121 0.73534203 ... 0.47432585 0.0422126  1.93955453]\n",
            " [0.78696114 0.82520863 0.73534203 ... 0.47432585 0.49017322 0.67635748]]\n"
          ],
          "name": "stdout"
        }
      ]
    },
    {
      "cell_type": "code",
      "metadata": {
        "id": "X3vahYn4cUz8",
        "colab_type": "code",
        "colab": {
          "base_uri": "https://localhost:8080/",
          "height": 51
        },
        "outputId": "c73da6d0-d50a-43ec-cd59-e3767ea97b7b"
      },
      "source": [
        "# Confirming that our outliers have been dropped \n",
        "df = titan[(z < 3).all(axis=1)]\n",
        "\n",
        "print(f\"Previous dataframe size : {titan.shape[0]}\")\n",
        "print(f\"New dataframe : {df.shape[0]}\")"
      ],
      "execution_count": null,
      "outputs": [
        {
          "output_type": "stream",
          "text": [
            "Previous dataframe size : 889\n",
            "New dataframe : 818\n"
          ],
          "name": "stdout"
        }
      ]
    },
    {
      "cell_type": "code",
      "metadata": {
        "id": "_GzFJV9_cbYY",
        "colab_type": "code",
        "colab": {}
      },
      "source": [
        "# Saving our data without outliers\n",
        "\n",
        "df.to_csv('new_data.csv')"
      ],
      "execution_count": null,
      "outputs": []
    },
    {
      "cell_type": "code",
      "metadata": {
        "id": "dU0AWvMecmgy",
        "colab_type": "code",
        "colab": {}
      },
      "source": [
        "# Loading the cleaned dataset\n",
        "\n",
        "titan = pd.read_csv('new_data.csv')\n"
      ],
      "execution_count": null,
      "outputs": []
    },
    {
      "cell_type": "code",
      "metadata": {
        "id": "ebyzYYRxfNIL",
        "colab_type": "code",
        "colab": {
          "base_uri": "https://localhost:8080/",
          "height": 170
        },
        "outputId": "c02a56c3-be65-4320-b8ed-3e655d501b72"
      },
      "source": [
        "# Dealing with any white spaces in the data\n",
        "for col in titan.columns:\n",
        "    try:\n",
        "        titan.col.str.strip()\n",
        "    except:\n",
        "        print(f\"{col} column din't have white spaces.\")"
      ],
      "execution_count": null,
      "outputs": [
        {
          "output_type": "stream",
          "text": [
            "Unnamed: 0 column din't have white spaces.\n",
            "Survived column din't have white spaces.\n",
            "Pclass column din't have white spaces.\n",
            "Sex column din't have white spaces.\n",
            "Age column din't have white spaces.\n",
            "SibSp column din't have white spaces.\n",
            "Parch column din't have white spaces.\n",
            "Fare column din't have white spaces.\n",
            "Embarked column din't have white spaces.\n"
          ],
          "name": "stdout"
        }
      ]
    },
    {
      "cell_type": "markdown",
      "metadata": {
        "id": "3xl9z9AAc6uY",
        "colab_type": "text"
      },
      "source": [
        "## Exploratory Data Analysis\n"
      ]
    },
    {
      "cell_type": "markdown",
      "metadata": {
        "id": "wTD6fPNNdEJt",
        "colab_type": "text"
      },
      "source": [
        "### **Univariate Analysis**"
      ]
    },
    {
      "cell_type": "code",
      "metadata": {
        "id": "6tO1RcvBd1DF",
        "colab_type": "code",
        "colab": {
          "base_uri": "https://localhost:8080/",
          "height": 204
        },
        "outputId": "289cc351-067a-4156-edae-05dffd77b946"
      },
      "source": [
        "# Previewin our new dataset\n",
        "\n",
        "titan.head()"
      ],
      "execution_count": null,
      "outputs": [
        {
          "output_type": "execute_result",
          "data": {
            "text/html": [
              "<div>\n",
              "<style scoped>\n",
              "    .dataframe tbody tr th:only-of-type {\n",
              "        vertical-align: middle;\n",
              "    }\n",
              "\n",
              "    .dataframe tbody tr th {\n",
              "        vertical-align: top;\n",
              "    }\n",
              "\n",
              "    .dataframe thead th {\n",
              "        text-align: right;\n",
              "    }\n",
              "</style>\n",
              "<table border=\"1\" class=\"dataframe\">\n",
              "  <thead>\n",
              "    <tr style=\"text-align: right;\">\n",
              "      <th></th>\n",
              "      <th>Unnamed: 0</th>\n",
              "      <th>Survived</th>\n",
              "      <th>Pclass</th>\n",
              "      <th>Sex</th>\n",
              "      <th>Age</th>\n",
              "      <th>SibSp</th>\n",
              "      <th>Parch</th>\n",
              "      <th>Fare</th>\n",
              "      <th>Embarked</th>\n",
              "    </tr>\n",
              "  </thead>\n",
              "  <tbody>\n",
              "    <tr>\n",
              "      <th>0</th>\n",
              "      <td>0</td>\n",
              "      <td>0</td>\n",
              "      <td>3</td>\n",
              "      <td>1</td>\n",
              "      <td>22.0</td>\n",
              "      <td>1</td>\n",
              "      <td>0</td>\n",
              "      <td>7.2500</td>\n",
              "      <td>2</td>\n",
              "    </tr>\n",
              "    <tr>\n",
              "      <th>1</th>\n",
              "      <td>1</td>\n",
              "      <td>1</td>\n",
              "      <td>1</td>\n",
              "      <td>0</td>\n",
              "      <td>38.0</td>\n",
              "      <td>1</td>\n",
              "      <td>0</td>\n",
              "      <td>71.2833</td>\n",
              "      <td>0</td>\n",
              "    </tr>\n",
              "    <tr>\n",
              "      <th>2</th>\n",
              "      <td>2</td>\n",
              "      <td>1</td>\n",
              "      <td>3</td>\n",
              "      <td>0</td>\n",
              "      <td>26.0</td>\n",
              "      <td>0</td>\n",
              "      <td>0</td>\n",
              "      <td>7.9250</td>\n",
              "      <td>2</td>\n",
              "    </tr>\n",
              "    <tr>\n",
              "      <th>3</th>\n",
              "      <td>3</td>\n",
              "      <td>1</td>\n",
              "      <td>1</td>\n",
              "      <td>0</td>\n",
              "      <td>35.0</td>\n",
              "      <td>1</td>\n",
              "      <td>0</td>\n",
              "      <td>53.1000</td>\n",
              "      <td>2</td>\n",
              "    </tr>\n",
              "    <tr>\n",
              "      <th>4</th>\n",
              "      <td>4</td>\n",
              "      <td>0</td>\n",
              "      <td>3</td>\n",
              "      <td>1</td>\n",
              "      <td>35.0</td>\n",
              "      <td>0</td>\n",
              "      <td>0</td>\n",
              "      <td>8.0500</td>\n",
              "      <td>2</td>\n",
              "    </tr>\n",
              "  </tbody>\n",
              "</table>\n",
              "</div>"
            ],
            "text/plain": [
              "   Unnamed: 0  Survived  Pclass  Sex   Age  SibSp  Parch     Fare  Embarked\n",
              "0           0         0       3    1  22.0      1      0   7.2500         2\n",
              "1           1         1       1    0  38.0      1      0  71.2833         0\n",
              "2           2         1       3    0  26.0      0      0   7.9250         2\n",
              "3           3         1       1    0  35.0      1      0  53.1000         2\n",
              "4           4         0       3    1  35.0      0      0   8.0500         2"
            ]
          },
          "metadata": {
            "tags": []
          },
          "execution_count": 85
        }
      ]
    },
    {
      "cell_type": "code",
      "metadata": {
        "id": "6qkT1Hz0fXNH",
        "colab_type": "code",
        "colab": {}
      },
      "source": [
        "# Dropping the Unnamed column\n",
        "\n",
        "titan = titan.drop(columns=['Unnamed: 0'])"
      ],
      "execution_count": null,
      "outputs": []
    },
    {
      "cell_type": "code",
      "metadata": {
        "id": "jV3rqw1jdC7x",
        "colab_type": "code",
        "colab": {
          "base_uri": "https://localhost:8080/",
          "height": 279
        },
        "outputId": "d3bc954c-183b-4846-dc94-0ef7d9058b6a"
      },
      "source": [
        "# We will create a distribution plot for our age column\n",
        "plt.style.use('bmh')\n",
        "\n",
        "sns.distplot(titan.Age, color='red');"
      ],
      "execution_count": null,
      "outputs": [
        {
          "output_type": "display_data",
          "data": {
            "image/png": "[encoded data removed]",
            "text/plain": [
              "<Figure size 432x288 with 1 Axes>"
            ]
          },
          "metadata": {
            "tags": [],
            "needs_background": "light"
          }
        }
      ]
    },
    {
      "cell_type": "code",
      "metadata": {
        "id": "uIWnmoRqdA12",
        "colab_type": "code",
        "colab": {
          "base_uri": "https://localhost:8080/",
          "height": 296
        },
        "outputId": "fdc3356b-9750-4a85-c915-8af62932fb7e"
      },
      "source": [
        "# Creating a distribution plot for our fare column\n",
        "\n",
        "sns.distplot(titan.Fare, color='red')"
      ],
      "execution_count": null,
      "outputs": [
        {
          "output_type": "execute_result",
          "data": {
            "text/plain": [
              "<matplotlib.axes._subplots.AxesSubplot at 0x7f95d0b1eef0>"
            ]
          },
          "metadata": {
            "tags": []
          },
          "execution_count": 89
        },
        {
          "output_type": "display_data",
          "data": {
            "image/png": "[encoded data removed]",
            "text/plain": [
              "<Figure size 432x288 with 1 Axes>"
            ]
          },
          "metadata": {
            "tags": [],
            "needs_background": "light"
          }
        }
      ]
    },
    {
      "cell_type": "code",
      "metadata": {
        "id": "TD8s84ZHevX3",
        "colab_type": "code",
        "colab": {
          "base_uri": "https://localhost:8080/",
          "height": 1000
        },
        "outputId": "d53b132a-6e86-45dc-9b6d-e3d83e0a2008"
      },
      "source": [
        "# Creating countplots for our remaining categorical columns\n",
        "columns = ['Survived', 'Pclass', 'Sex', 'SibSp',\t'Parch', 'Embarked']\n",
        "\n",
        "\n",
        "fig, ((ax1, ax2), (ax3, ax4), (ax5, ax6)) = plt.subplots(3,2, figsize=(20, 20))\n",
        "fig.suptitle('Frequency Distributions')\n",
        "axes_list = [ax1, ax2, ax3, ax4, ax5, ax6]\n",
        "\n",
        "#iterating our columns as we plot\n",
        "for i, col in enumerate(columns):\n",
        "    sns.countplot(titan[col], ax=axes_list[i], palette='icefire')\n",
        "    axes_list[i].set_xlabel(col, fontsize=16)\n",
        "    axes_list[i].set_ylabel('Count', fontsize=16)\n",
        "\n",
        "plt.show()    "
      ],
      "execution_count": null,
      "outputs": [
        {
          "output_type": "display_data",
          "data": {
            "image/png": "[encoded data removed]",
            "text/plain": [
              "<Figure size 1440x1440 with 6 Axes>"
            ]
          },
          "metadata": {
            "tags": [],
            "needs_background": "light"
          }
        }
      ]
    },
    {
      "cell_type": "code",
      "metadata": {
        "id": "5fVw94PKmSVS",
        "colab_type": "code",
        "colab": {
          "base_uri": "https://localhost:8080/",
          "height": 170
        },
        "outputId": "5e1ba473-29cf-4cdc-cfe0-783e1e642032"
      },
      "source": [
        "# Determining the standard deviation for our data\n",
        "\n",
        "titan.std()"
      ],
      "execution_count": null,
      "outputs": [
        {
          "output_type": "execute_result",
          "data": {
            "text/plain": [
              "Survived     0.487765\n",
              "Pclass       0.825137\n",
              "Sex          0.474361\n",
              "Age         12.342933\n",
              "SibSp        0.619951\n",
              "Parch        0.565859\n",
              "Fare        29.733184\n",
              "Embarked     0.789503\n",
              "dtype: float64"
            ]
          },
          "metadata": {
            "tags": []
          },
          "execution_count": 100
        }
      ]
    },
    {
      "cell_type": "code",
      "metadata": {
        "id": "4WBDfluEnWtr",
        "colab_type": "code",
        "colab": {
          "base_uri": "https://localhost:8080/",
          "height": 170
        },
        "outputId": "2c61bb95-8ccd-4a5a-c871-bd2bd52778a3"
      },
      "source": [
        "# Determining the skewness of our data\n",
        "\n",
        "titan.skew()"
      ],
      "execution_count": null,
      "outputs": [
        {
          "output_type": "execute_result",
          "data": {
            "text/plain": [
              "Survived    0.457268\n",
              "Pclass     -0.639191\n",
              "Sex        -0.671699\n",
              "Age         0.405592\n",
              "SibSp       1.975774\n",
              "Parch       2.118544\n",
              "Fare        2.342849\n",
              "Embarked   -1.273629\n",
              "dtype: float64"
            ]
          },
          "metadata": {
            "tags": []
          },
          "execution_count": 104
        }
      ]
    },
    {
      "cell_type": "code",
      "metadata": {
        "id": "t2TvuZfWplxy",
        "colab_type": "code",
        "colab": {
          "base_uri": "https://localhost:8080/",
          "height": 170
        },
        "outputId": "df9c62fb-9dc3-46be-a67f-17cf3e979e0e"
      },
      "source": [
        "# Determining the kurtosis of our data\n",
        "\n",
        "titan.kurt()"
      ],
      "execution_count": null,
      "outputs": [
        {
          "output_type": "execute_result",
          "data": {
            "text/plain": [
              "Survived   -1.795302\n",
              "Pclass     -1.235895\n",
              "Sex        -1.552623\n",
              "Age         0.549113\n",
              "SibSp       4.258315\n",
              "Parch       3.306731\n",
              "Fare        5.584661\n",
              "Embarked   -0.182165\n",
              "dtype: float64"
            ]
          },
          "metadata": {
            "tags": []
          },
          "execution_count": 105
        }
      ]
    },
    {
      "cell_type": "markdown",
      "metadata": {
        "id": "EOs06zObp6P_",
        "colab_type": "text"
      },
      "source": [
        "### **Bivariate analysis**"
      ]
    },
    {
      "cell_type": "code",
      "metadata": {
        "id": "FZFcsANIp51Q",
        "colab_type": "code",
        "colab": {
          "base_uri": "https://localhost:8080/",
          "height": 297
        },
        "outputId": "09236e30-6653-4fb3-efb8-063715ddc3e9"
      },
      "source": [
        "# Determining the correlation of our data\n",
        "\n",
        "correlation = titan.corr()\n",
        "correlation"
      ],
      "execution_count": null,
      "outputs": [
        {
          "output_type": "execute_result",
          "data": {
            "text/html": [
              "<div>\n",
              "<style scoped>\n",
              "    .dataframe tbody tr th:only-of-type {\n",
              "        vertical-align: middle;\n",
              "    }\n",
              "\n",
              "    .dataframe tbody tr th {\n",
              "        vertical-align: top;\n",
              "    }\n",
              "\n",
              "    .dataframe thead th {\n",
              "        text-align: right;\n",
              "    }\n",
              "</style>\n",
              "<table border=\"1\" class=\"dataframe\">\n",
              "  <thead>\n",
              "    <tr style=\"text-align: right;\">\n",
              "      <th></th>\n",
              "      <th>Survived</th>\n",
              "      <th>Pclass</th>\n",
              "      <th>Sex</th>\n",
              "      <th>Age</th>\n",
              "      <th>SibSp</th>\n",
              "      <th>Parch</th>\n",
              "      <th>Fare</th>\n",
              "      <th>Embarked</th>\n",
              "    </tr>\n",
              "  </thead>\n",
              "  <tbody>\n",
              "    <tr>\n",
              "      <th>Survived</th>\n",
              "      <td>1.000000</td>\n",
              "      <td>-0.319048</td>\n",
              "      <td>-0.553009</td>\n",
              "      <td>-0.074151</td>\n",
              "      <td>0.096403</td>\n",
              "      <td>0.202888</td>\n",
              "      <td>0.326829</td>\n",
              "      <td>-0.157142</td>\n",
              "    </tr>\n",
              "    <tr>\n",
              "      <th>Pclass</th>\n",
              "      <td>-0.319048</td>\n",
              "      <td>1.000000</td>\n",
              "      <td>0.133391</td>\n",
              "      <td>-0.404247</td>\n",
              "      <td>-0.054688</td>\n",
              "      <td>-0.080384</td>\n",
              "      <td>-0.689576</td>\n",
              "      <td>0.124844</td>\n",
              "    </tr>\n",
              "    <tr>\n",
              "      <th>Sex</th>\n",
              "      <td>-0.553009</td>\n",
              "      <td>0.133391</td>\n",
              "      <td>1.000000</td>\n",
              "      <td>0.095131</td>\n",
              "      <td>-0.201663</td>\n",
              "      <td>-0.254059</td>\n",
              "      <td>-0.239992</td>\n",
              "      <td>0.119011</td>\n",
              "    </tr>\n",
              "    <tr>\n",
              "      <th>Age</th>\n",
              "      <td>-0.074151</td>\n",
              "      <td>-0.404247</td>\n",
              "      <td>0.095131</td>\n",
              "      <td>1.000000</td>\n",
              "      <td>-0.143749</td>\n",
              "      <td>-0.250219</td>\n",
              "      <td>0.189152</td>\n",
              "      <td>0.004358</td>\n",
              "    </tr>\n",
              "    <tr>\n",
              "      <th>SibSp</th>\n",
              "      <td>0.096403</td>\n",
              "      <td>-0.054688</td>\n",
              "      <td>-0.201663</td>\n",
              "      <td>-0.143749</td>\n",
              "      <td>1.000000</td>\n",
              "      <td>0.306784</td>\n",
              "      <td>0.250832</td>\n",
              "      <td>-0.012974</td>\n",
              "    </tr>\n",
              "    <tr>\n",
              "      <th>Parch</th>\n",
              "      <td>0.202888</td>\n",
              "      <td>-0.080384</td>\n",
              "      <td>-0.254059</td>\n",
              "      <td>-0.250219</td>\n",
              "      <td>0.306784</td>\n",
              "      <td>1.000000</td>\n",
              "      <td>0.263038</td>\n",
              "      <td>-0.015551</td>\n",
              "    </tr>\n",
              "    <tr>\n",
              "      <th>Fare</th>\n",
              "      <td>0.326829</td>\n",
              "      <td>-0.689576</td>\n",
              "      <td>-0.239992</td>\n",
              "      <td>0.189152</td>\n",
              "      <td>0.250832</td>\n",
              "      <td>0.263038</td>\n",
              "      <td>1.000000</td>\n",
              "      <td>-0.196032</td>\n",
              "    </tr>\n",
              "    <tr>\n",
              "      <th>Embarked</th>\n",
              "      <td>-0.157142</td>\n",
              "      <td>0.124844</td>\n",
              "      <td>0.119011</td>\n",
              "      <td>0.004358</td>\n",
              "      <td>-0.012974</td>\n",
              "      <td>-0.015551</td>\n",
              "      <td>-0.196032</td>\n",
              "      <td>1.000000</td>\n",
              "    </tr>\n",
              "  </tbody>\n",
              "</table>\n",
              "</div>"
            ],
            "text/plain": [
              "          Survived    Pclass       Sex  ...     Parch      Fare  Embarked\n",
              "Survived  1.000000 -0.319048 -0.553009  ...  0.202888  0.326829 -0.157142\n",
              "Pclass   -0.319048  1.000000  0.133391  ... -0.080384 -0.689576  0.124844\n",
              "Sex      -0.553009  0.133391  1.000000  ... -0.254059 -0.239992  0.119011\n",
              "Age      -0.074151 -0.404247  0.095131  ... -0.250219  0.189152  0.004358\n",
              "SibSp     0.096403 -0.054688 -0.201663  ...  0.306784  0.250832 -0.012974\n",
              "Parch     0.202888 -0.080384 -0.254059  ...  1.000000  0.263038 -0.015551\n",
              "Fare      0.326829 -0.689576 -0.239992  ...  0.263038  1.000000 -0.196032\n",
              "Embarked -0.157142  0.124844  0.119011  ... -0.015551 -0.196032  1.000000\n",
              "\n",
              "[8 rows x 8 columns]"
            ]
          },
          "metadata": {
            "tags": []
          },
          "execution_count": 107
        }
      ]
    },
    {
      "cell_type": "code",
      "metadata": {
        "id": "KfaW-Ey-p4WB",
        "colab_type": "code",
        "colab": {
          "base_uri": "https://localhost:8080/",
          "height": 609
        },
        "outputId": "ac436af3-5734-4ea3-ca7b-bc6ec8a4c170"
      },
      "source": [
        "# Plotting correlation values on a heatmap\n",
        "plt.style.use('dark_background')\n",
        "\n",
        "plt.figure(figsize = (15, 10))\n",
        "sns.heatmap(correlation, annot=True)"
      ],
      "execution_count": null,
      "outputs": [
        {
          "output_type": "execute_result",
          "data": {
            "text/plain": [
              "<matplotlib.axes._subplots.AxesSubplot at 0x7f95d3be3470>"
            ]
          },
          "metadata": {
            "tags": []
          },
          "execution_count": 131
        },
        {
          "output_type": "display_data",
          "data": {
            "image/png": "[encoded data removed]",
            "text/plain": [
              "<Figure size 1080x720 with 2 Axes>"
            ]
          },
          "metadata": {
            "tags": []
          }
        }
      ]
    },
    {
      "cell_type": "code",
      "metadata": {
        "id": "9P4xrSnDrlvM",
        "colab_type": "code",
        "colab": {
          "base_uri": "https://localhost:8080/",
          "height": 297
        },
        "outputId": "22848956-5667-48ec-df75-5503806f218d"
      },
      "source": [
        "# Determining the VIF of our data to test for multicollinearity\n",
        "\n",
        "vif = pd.DataFrame(np.linalg.inv(correlation.values), index = correlation.index, columns=correlation.columns)\n",
        "vif"
      ],
      "execution_count": null,
      "outputs": [
        {
          "output_type": "execute_result",
          "data": {
            "text/html": [
              "<div>\n",
              "<style scoped>\n",
              "    .dataframe tbody tr th:only-of-type {\n",
              "        vertical-align: middle;\n",
              "    }\n",
              "\n",
              "    .dataframe tbody tr th {\n",
              "        vertical-align: top;\n",
              "    }\n",
              "\n",
              "    .dataframe thead th {\n",
              "        text-align: right;\n",
              "    }\n",
              "</style>\n",
              "<table border=\"1\" class=\"dataframe\">\n",
              "  <thead>\n",
              "    <tr style=\"text-align: right;\">\n",
              "      <th></th>\n",
              "      <th>Survived</th>\n",
              "      <th>Pclass</th>\n",
              "      <th>Sex</th>\n",
              "      <th>Age</th>\n",
              "      <th>SibSp</th>\n",
              "      <th>Parch</th>\n",
              "      <th>Fare</th>\n",
              "      <th>Embarked</th>\n",
              "    </tr>\n",
              "  </thead>\n",
              "  <tbody>\n",
              "    <tr>\n",
              "      <th>Survived</th>\n",
              "      <td>1.648306</td>\n",
              "      <td>0.461379</td>\n",
              "      <td>0.808106</td>\n",
              "      <td>0.248433</td>\n",
              "      <td>0.095723</td>\n",
              "      <td>-0.039575</td>\n",
              "      <td>-0.069335</td>\n",
              "      <td>0.091196</td>\n",
              "    </tr>\n",
              "    <tr>\n",
              "      <th>Pclass</th>\n",
              "      <td>0.461379</td>\n",
              "      <td>2.392338</td>\n",
              "      <td>0.183876</td>\n",
              "      <td>0.680863</td>\n",
              "      <td>-0.136929</td>\n",
              "      <td>-0.026271</td>\n",
              "      <td>1.462053</td>\n",
              "      <td>0.033406</td>\n",
              "    </tr>\n",
              "    <tr>\n",
              "      <th>Sex</th>\n",
              "      <td>0.808106</td>\n",
              "      <td>0.183876</td>\n",
              "      <td>1.530822</td>\n",
              "      <td>0.027349</td>\n",
              "      <td>0.161382</td>\n",
              "      <td>0.161458</td>\n",
              "      <td>0.132600</td>\n",
              "      <td>-0.047674</td>\n",
              "    </tr>\n",
              "    <tr>\n",
              "      <th>Age</th>\n",
              "      <td>0.248433</td>\n",
              "      <td>0.680863</td>\n",
              "      <td>0.027349</td>\n",
              "      <td>1.385858</td>\n",
              "      <td>0.117038</td>\n",
              "      <td>0.318676</td>\n",
              "      <td>0.010393</td>\n",
              "      <td>-0.046745</td>\n",
              "    </tr>\n",
              "    <tr>\n",
              "      <th>SibSp</th>\n",
              "      <td>0.095723</td>\n",
              "      <td>-0.136929</td>\n",
              "      <td>0.161382</td>\n",
              "      <td>0.117038</td>\n",
              "      <td>1.192874</td>\n",
              "      <td>-0.233188</td>\n",
              "      <td>-0.355908</td>\n",
              "      <td>-0.045498</td>\n",
              "    </tr>\n",
              "    <tr>\n",
              "      <th>Parch</th>\n",
              "      <td>-0.039575</td>\n",
              "      <td>-0.026271</td>\n",
              "      <td>0.161458</td>\n",
              "      <td>0.318676</td>\n",
              "      <td>-0.233188</td>\n",
              "      <td>1.280974</td>\n",
              "      <td>-0.318716</td>\n",
              "      <td>-0.069127</td>\n",
              "    </tr>\n",
              "    <tr>\n",
              "      <th>Fare</th>\n",
              "      <td>-0.069335</td>\n",
              "      <td>1.462053</td>\n",
              "      <td>0.132600</td>\n",
              "      <td>0.010393</td>\n",
              "      <td>-0.355908</td>\n",
              "      <td>-0.318716</td>\n",
              "      <td>2.278484</td>\n",
              "      <td>0.227830</td>\n",
              "    </tr>\n",
              "    <tr>\n",
              "      <th>Embarked</th>\n",
              "      <td>0.091196</td>\n",
              "      <td>0.033406</td>\n",
              "      <td>-0.047674</td>\n",
              "      <td>-0.046745</td>\n",
              "      <td>-0.045498</td>\n",
              "      <td>-0.069127</td>\n",
              "      <td>0.227830</td>\n",
              "      <td>1.059034</td>\n",
              "    </tr>\n",
              "  </tbody>\n",
              "</table>\n",
              "</div>"
            ],
            "text/plain": [
              "          Survived    Pclass       Sex  ...     Parch      Fare  Embarked\n",
              "Survived  1.648306  0.461379  0.808106  ... -0.039575 -0.069335  0.091196\n",
              "Pclass    0.461379  2.392338  0.183876  ... -0.026271  1.462053  0.033406\n",
              "Sex       0.808106  0.183876  1.530822  ...  0.161458  0.132600 -0.047674\n",
              "Age       0.248433  0.680863  0.027349  ...  0.318676  0.010393 -0.046745\n",
              "SibSp     0.095723 -0.136929  0.161382  ... -0.233188 -0.355908 -0.045498\n",
              "Parch    -0.039575 -0.026271  0.161458  ...  1.280974 -0.318716 -0.069127\n",
              "Fare     -0.069335  1.462053  0.132600  ... -0.318716  2.278484  0.227830\n",
              "Embarked  0.091196  0.033406 -0.047674  ... -0.069127  0.227830  1.059034\n",
              "\n",
              "[8 rows x 8 columns]"
            ]
          },
          "metadata": {
            "tags": []
          },
          "execution_count": 120
        }
      ]
    },
    {
      "cell_type": "markdown",
      "metadata": {
        "id": "4KwwGEiVvjQ7",
        "colab_type": "text"
      },
      "source": [
        "From our analysis, Pclass and Fare columns have the highest values at 2.392 and 2.278. This shows that the two columns mightbe highly dependent on each other as fare is influenced by the number of parents or children on the ship.\n",
        "\n",
        "Therefore, we will drop one of the columns, which in the case will be the Pclass column since it is of less importance as compared to the Fare column."
      ]
    },
    {
      "cell_type": "code",
      "metadata": {
        "id": "w7wSx3DyuefC",
        "colab_type": "code",
        "colab": {
          "base_uri": "https://localhost:8080/",
          "height": 266
        },
        "outputId": "5145f1f5-0581-4703-fd4e-76e02b6452fc"
      },
      "source": [
        "# We will drop our Pclass which is heavily dependent on our fare column\n",
        "\n",
        "df = titan.drop(columns=['Pclass'])\n",
        "\n",
        "correlations = df.corr()\n",
        "VIF = pd.DataFrame(np.linalg.inv(correlations.values), index = correlations.index, columns=correlations.columns)\n",
        "VIF"
      ],
      "execution_count": null,
      "outputs": [
        {
          "output_type": "execute_result",
          "data": {
            "text/html": [
              "<div>\n",
              "<style scoped>\n",
              "    .dataframe tbody tr th:only-of-type {\n",
              "        vertical-align: middle;\n",
              "    }\n",
              "\n",
              "    .dataframe tbody tr th {\n",
              "        vertical-align: top;\n",
              "    }\n",
              "\n",
              "    .dataframe thead th {\n",
              "        text-align: right;\n",
              "    }\n",
              "</style>\n",
              "<table border=\"1\" class=\"dataframe\">\n",
              "  <thead>\n",
              "    <tr style=\"text-align: right;\">\n",
              "      <th></th>\n",
              "      <th>Survived</th>\n",
              "      <th>Sex</th>\n",
              "      <th>Age</th>\n",
              "      <th>SibSp</th>\n",
              "      <th>Parch</th>\n",
              "      <th>Fare</th>\n",
              "      <th>Embarked</th>\n",
              "    </tr>\n",
              "  </thead>\n",
              "  <tbody>\n",
              "    <tr>\n",
              "      <th>Survived</th>\n",
              "      <td>1.559326</td>\n",
              "      <td>0.772645</td>\n",
              "      <td>0.117124</td>\n",
              "      <td>0.122131</td>\n",
              "      <td>-0.034508</td>\n",
              "      <td>-0.351302</td>\n",
              "      <td>0.084753</td>\n",
              "    </tr>\n",
              "    <tr>\n",
              "      <th>Sex</th>\n",
              "      <td>0.772645</td>\n",
              "      <td>1.516689</td>\n",
              "      <td>-0.024983</td>\n",
              "      <td>0.171906</td>\n",
              "      <td>0.163477</td>\n",
              "      <td>0.020226</td>\n",
              "      <td>-0.050242</td>\n",
              "    </tr>\n",
              "    <tr>\n",
              "      <th>Age</th>\n",
              "      <td>0.117124</td>\n",
              "      <td>-0.024983</td>\n",
              "      <td>1.192083</td>\n",
              "      <td>0.156008</td>\n",
              "      <td>0.326153</td>\n",
              "      <td>-0.405710</td>\n",
              "      <td>-0.056253</td>\n",
              "    </tr>\n",
              "    <tr>\n",
              "      <th>SibSp</th>\n",
              "      <td>0.122131</td>\n",
              "      <td>0.171906</td>\n",
              "      <td>0.156008</td>\n",
              "      <td>1.185036</td>\n",
              "      <td>-0.234691</td>\n",
              "      <td>-0.272225</td>\n",
              "      <td>-0.043586</td>\n",
              "    </tr>\n",
              "    <tr>\n",
              "      <th>Parch</th>\n",
              "      <td>-0.034508</td>\n",
              "      <td>0.163477</td>\n",
              "      <td>0.326153</td>\n",
              "      <td>-0.234691</td>\n",
              "      <td>1.280685</td>\n",
              "      <td>-0.302661</td>\n",
              "      <td>-0.068760</td>\n",
              "    </tr>\n",
              "    <tr>\n",
              "      <th>Fare</th>\n",
              "      <td>-0.351302</td>\n",
              "      <td>0.020226</td>\n",
              "      <td>-0.405710</td>\n",
              "      <td>-0.272225</td>\n",
              "      <td>-0.302661</td>\n",
              "      <td>1.384965</td>\n",
              "      <td>0.207415</td>\n",
              "    </tr>\n",
              "    <tr>\n",
              "      <th>Embarked</th>\n",
              "      <td>0.084753</td>\n",
              "      <td>-0.050242</td>\n",
              "      <td>-0.056253</td>\n",
              "      <td>-0.043586</td>\n",
              "      <td>-0.068760</td>\n",
              "      <td>0.207415</td>\n",
              "      <td>1.058568</td>\n",
              "    </tr>\n",
              "  </tbody>\n",
              "</table>\n",
              "</div>"
            ],
            "text/plain": [
              "          Survived       Sex       Age     SibSp     Parch      Fare  Embarked\n",
              "Survived  1.559326  0.772645  0.117124  0.122131 -0.034508 -0.351302  0.084753\n",
              "Sex       0.772645  1.516689 -0.024983  0.171906  0.163477  0.020226 -0.050242\n",
              "Age       0.117124 -0.024983  1.192083  0.156008  0.326153 -0.405710 -0.056253\n",
              "SibSp     0.122131  0.171906  0.156008  1.185036 -0.234691 -0.272225 -0.043586\n",
              "Parch    -0.034508  0.163477  0.326153 -0.234691  1.280685 -0.302661 -0.068760\n",
              "Fare     -0.351302  0.020226 -0.405710 -0.272225 -0.302661  1.384965  0.207415\n",
              "Embarked  0.084753 -0.050242 -0.056253 -0.043586 -0.068760  0.207415  1.058568"
            ]
          },
          "metadata": {
            "tags": []
          },
          "execution_count": 116
        }
      ]
    },
    {
      "cell_type": "code",
      "metadata": {
        "id": "TARnwXliw0m3",
        "colab_type": "code",
        "colab": {
          "base_uri": "https://localhost:8080/",
          "height": 605
        },
        "outputId": "252038e0-220e-41aa-e9ff-c3a7c6fd5657"
      },
      "source": [
        "plt.figure(figsize = (15, 10))\n",
        "sns.heatmap(VIF, annot=True)"
      ],
      "execution_count": null,
      "outputs": [
        {
          "output_type": "execute_result",
          "data": {
            "text/plain": [
              "<matplotlib.axes._subplots.AxesSubplot at 0x7f95cb78b0f0>"
            ]
          },
          "metadata": {
            "tags": []
          },
          "execution_count": 119
        },
        {
          "output_type": "display_data",
          "data": {
            "image/png": "[encoded data removed]",
            "text/plain": [
              "<Figure size 1080x720 with 2 Axes>"
            ]
          },
          "metadata": {
            "tags": []
          }
        }
      ]
    },
    {
      "cell_type": "markdown",
      "metadata": {
        "id": "iLlHfEYJ2nZ-",
        "colab_type": "text"
      },
      "source": [
        "### **Multivariate Analysis**"
      ]
    },
    {
      "cell_type": "code",
      "metadata": {
        "id": "x1PdvzGP2tPJ",
        "colab_type": "code",
        "colab": {
          "base_uri": "https://localhost:8080/",
          "height": 204
        },
        "outputId": "872283cb-de6f-4ed9-a7fe-9cd2c8d5ab9c"
      },
      "source": [
        "# Previewing our dataset\n",
        "\n",
        "df.head()"
      ],
      "execution_count": null,
      "outputs": [
        {
          "output_type": "execute_result",
          "data": {
            "text/html": [
              "<div>\n",
              "<style scoped>\n",
              "    .dataframe tbody tr th:only-of-type {\n",
              "        vertical-align: middle;\n",
              "    }\n",
              "\n",
              "    .dataframe tbody tr th {\n",
              "        vertical-align: top;\n",
              "    }\n",
              "\n",
              "    .dataframe thead th {\n",
              "        text-align: right;\n",
              "    }\n",
              "</style>\n",
              "<table border=\"1\" class=\"dataframe\">\n",
              "  <thead>\n",
              "    <tr style=\"text-align: right;\">\n",
              "      <th></th>\n",
              "      <th>Survived</th>\n",
              "      <th>Sex</th>\n",
              "      <th>Age</th>\n",
              "      <th>SibSp</th>\n",
              "      <th>Parch</th>\n",
              "      <th>Fare</th>\n",
              "      <th>Embarked</th>\n",
              "    </tr>\n",
              "  </thead>\n",
              "  <tbody>\n",
              "    <tr>\n",
              "      <th>0</th>\n",
              "      <td>0</td>\n",
              "      <td>1</td>\n",
              "      <td>22.0</td>\n",
              "      <td>1</td>\n",
              "      <td>0</td>\n",
              "      <td>7.2500</td>\n",
              "      <td>2</td>\n",
              "    </tr>\n",
              "    <tr>\n",
              "      <th>1</th>\n",
              "      <td>1</td>\n",
              "      <td>0</td>\n",
              "      <td>38.0</td>\n",
              "      <td>1</td>\n",
              "      <td>0</td>\n",
              "      <td>71.2833</td>\n",
              "      <td>0</td>\n",
              "    </tr>\n",
              "    <tr>\n",
              "      <th>2</th>\n",
              "      <td>1</td>\n",
              "      <td>0</td>\n",
              "      <td>26.0</td>\n",
              "      <td>0</td>\n",
              "      <td>0</td>\n",
              "      <td>7.9250</td>\n",
              "      <td>2</td>\n",
              "    </tr>\n",
              "    <tr>\n",
              "      <th>3</th>\n",
              "      <td>1</td>\n",
              "      <td>0</td>\n",
              "      <td>35.0</td>\n",
              "      <td>1</td>\n",
              "      <td>0</td>\n",
              "      <td>53.1000</td>\n",
              "      <td>2</td>\n",
              "    </tr>\n",
              "    <tr>\n",
              "      <th>4</th>\n",
              "      <td>0</td>\n",
              "      <td>1</td>\n",
              "      <td>35.0</td>\n",
              "      <td>0</td>\n",
              "      <td>0</td>\n",
              "      <td>8.0500</td>\n",
              "      <td>2</td>\n",
              "    </tr>\n",
              "  </tbody>\n",
              "</table>\n",
              "</div>"
            ],
            "text/plain": [
              "   Survived  Sex   Age  SibSp  Parch     Fare  Embarked\n",
              "0         0    1  22.0      1      0   7.2500         2\n",
              "1         1    0  38.0      1      0  71.2833         0\n",
              "2         1    0  26.0      0      0   7.9250         2\n",
              "3         1    0  35.0      1      0  53.1000         2\n",
              "4         0    1  35.0      0      0   8.0500         2"
            ]
          },
          "metadata": {
            "tags": []
          },
          "execution_count": 123
        }
      ]
    },
    {
      "cell_type": "code",
      "metadata": {
        "id": "dZC1GWt53KFK",
        "colab_type": "code",
        "colab": {}
      },
      "source": [
        "# We will use LDA(Linear Disciminant Analysis) to apply dimensionality reduction to our dataset\n",
        "\n",
        "# After loading our dataset, we need to divide it into features and labels before creating training and testing models\n",
        "# We will use our survived column as our label\n",
        "\n",
        "X = titan.iloc[:, 1:6].values\n",
        "y = titan.iloc[:, 0].values "
      ],
      "execution_count": 154,
      "outputs": []
    },
    {
      "cell_type": "code",
      "metadata": {
        "id": "dSrA_nWp4yK2",
        "colab_type": "code",
        "colab": {}
      },
      "source": [
        "# Dividing the data into training and testing sets\n",
        "\n",
        "X_train, X_test, y_train, y_test = train_test_split(X, y, test_size=0.2, random_state=0)\n"
      ],
      "execution_count": 160,
      "outputs": []
    },
    {
      "cell_type": "code",
      "metadata": {
        "id": "YXSukmaF5Mps",
        "colab_type": "code",
        "colab": {}
      },
      "source": [
        "# Performing feature scaling on our data using Standard Scaler\n",
        "\n",
        "sc = StandardScaler()\n",
        "X_train = sc.fit_transform(X_train)\n",
        "X_test = sc.fit_transform(X_test)"
      ],
      "execution_count": 161,
      "outputs": []
    },
    {
      "cell_type": "code",
      "metadata": {
        "id": "3qgQVwyv6juq",
        "colab_type": "code",
        "colab": {
          "base_uri": "https://localhost:8080/",
          "height": 105
        },
        "outputId": "c11e598d-2b22-4ad9-a4cf-1d6c2106d146"
      },
      "source": [
        "# Performing LDA on our data, while using n_components to refer to the number of linear discriminates we want to retrieve\n",
        "\n",
        "lda = LDA(n_components=5)\n",
        "X_train = lda.fit_transform(X_train, y_train)\n",
        "X_test = lda.transform(X_test)"
      ],
      "execution_count": 207,
      "outputs": [
        {
          "output_type": "stream",
          "text": [
            "/usr/local/lib/python3.6/dist-packages/sklearn/discriminant_analysis.py:463: ChangedBehaviorWarning: n_components cannot be larger than min(n_features, n_classes - 1). Using min(n_features, n_classes - 1) = min(1, 2 - 1) = 1 components.\n",
            "  ChangedBehaviorWarning)\n",
            "/usr/local/lib/python3.6/dist-packages/sklearn/discriminant_analysis.py:469: FutureWarning: In version 0.23, setting n_components > min(n_features, n_classes - 1) will raise a ValueError. You should set n_components to None (default), or a value smaller or equal to min(n_features, n_classes - 1).\n",
            "  warnings.warn(future_msg, FutureWarning)\n"
          ],
          "name": "stderr"
        }
      ]
    },
    {
      "cell_type": "code",
      "metadata": {
        "id": "3tzK7XgmV4u5",
        "colab_type": "code",
        "colab": {}
      },
      "source": [
        "# Using the random rorest classifier to evaluate the performance of PCA-reduced algorithms\n",
        "\n",
        "\n",
        "classifier = RandomForestClassifier(max_depth=10, random_state=65) \n",
        "classifier.fit(X_train, y_train)\n",
        "y_pred = classifier.predict(X_test)"
      ],
      "execution_count": 208,
      "outputs": []
    },
    {
      "cell_type": "code",
      "metadata": {
        "id": "tSWg3KSTV9Vc",
        "colab_type": "code",
        "colab": {
          "base_uri": "https://localhost:8080/",
          "height": 68
        },
        "outputId": "78e459ac-c9b3-4126-d6ff-7bed9a178d0b"
      },
      "source": [
        "# Evaluating the performance of our algorithm \n",
        "\n",
        "cm = confusion_matrix(y_test, y_pred)\n",
        "print(cm)\n",
        "print('Accuracy' + str(accuracy_score(y_test, y_pred)))"
      ],
      "execution_count": 209,
      "outputs": [
        {
          "output_type": "stream",
          "text": [
            "[[89 11]\n",
            " [23 41]]\n",
            "Accuracy0.7926829268292683\n"
          ],
          "name": "stdout"
        }
      ]
    },
    {
      "cell_type": "markdown",
      "metadata": {
        "id": "SLghmx7UAwBF",
        "colab_type": "text"
      },
      "source": [
        "## Implementing the solution"
      ]
    },
    {
      "cell_type": "code",
      "metadata": {
        "id": "5sAKS_lAVDI0",
        "colab_type": "code",
        "colab": {
          "base_uri": "https://localhost:8080/",
          "height": 68
        },
        "outputId": "48cb0a0d-3c6a-43e9-db49-d06125e94123"
      },
      "source": [
        "# We will now use KNN classifier to create our model\n",
        "\n",
        "from sklearn.neighbors import KNeighborsClassifier \n",
        "classifier = KNeighborsClassifier(n_neighbors=5) \n",
        "classifier.fit(X_train, y_train)"
      ],
      "execution_count": 215,
      "outputs": [
        {
          "output_type": "execute_result",
          "data": {
            "text/plain": [
              "KNeighborsClassifier(algorithm='auto', leaf_size=30, metric='minkowski',\n",
              "                     metric_params=None, n_jobs=None, n_neighbors=5, p=2,\n",
              "                     weights='uniform')"
            ]
          },
          "metadata": {
            "tags": []
          },
          "execution_count": 215
        }
      ]
    },
    {
      "cell_type": "code",
      "metadata": {
        "id": "hjRwnOQoVHEQ",
        "colab_type": "code",
        "colab": {}
      },
      "source": [
        "# Since we had already split our data and created our training and testing, we will ony need to train our algorithm \n",
        "\n",
        "\n",
        "y_pred1 = classifier.predict(X_test)"
      ],
      "execution_count": 216,
      "outputs": []
    },
    {
      "cell_type": "code",
      "metadata": {
        "id": "CYU95cYhVLIp",
        "colab_type": "code",
        "colab": {
          "base_uri": "https://localhost:8080/",
          "height": 204
        },
        "outputId": "daaf79ba-a9c4-4973-e6e8-3b5c234bf6db"
      },
      "source": [
        "# We will then make a prediction using this algorithm\n",
        "\n",
        "from sklearn.metrics import classification_report, confusion_matrix\n",
        "print(confusion_matrix(y_test, y_pred1))\n",
        "print(classification_report(y_test, y_pred1))"
      ],
      "execution_count": 217,
      "outputs": [
        {
          "output_type": "stream",
          "text": [
            "[[86 14]\n",
            " [21 43]]\n",
            "              precision    recall  f1-score   support\n",
            "\n",
            "           0       0.80      0.86      0.83       100\n",
            "           1       0.75      0.67      0.71        64\n",
            "\n",
            "    accuracy                           0.79       164\n",
            "   macro avg       0.78      0.77      0.77       164\n",
            "weighted avg       0.78      0.79      0.78       164\n",
            "\n"
          ],
          "name": "stdout"
        }
      ]
    },
    {
      "cell_type": "markdown",
      "metadata": {
        "id": "JIz8ZyW0aqNU",
        "colab_type": "text"
      },
      "source": [
        "## Challenging the solution."
      ]
    },
    {
      "cell_type": "code",
      "metadata": {
        "id": "Jszfdd87cXEj",
        "colab_type": "code",
        "colab": {
          "base_uri": "https://localhost:8080/",
          "height": 34
        },
        "outputId": "d33c20b0-f9a6-40cd-ce91-424de1e95579"
      },
      "source": [
        "# Reviewing our solutions\n",
        "\n",
        "accuracy_score(y_test, y_pred1)"
      ],
      "execution_count": 213,
      "outputs": [
        {
          "output_type": "execute_result",
          "data": {
            "text/plain": [
              "0.7865853658536586"
            ]
          },
          "metadata": {
            "tags": []
          },
          "execution_count": 213
        }
      ]
    },
    {
      "cell_type": "markdown",
      "metadata": {
        "id": "10gqoQbvYd_q",
        "colab_type": "text"
      },
      "source": [
        "From our analysis, we can see that our model hasn't performed as well as we expected it to. Our accuracy is 79% percent which is higher than our threshold of above 60%. However it is lower than our target of 80% which we had specified as our measure of success. \n",
        "\n",
        "Therefore, this might indicate that our algorithm may not be fit to make predictions in our data or different methods of improving model performance might be required."
      ]
    },
    {
      "cell_type": "markdown",
      "metadata": {
        "id": "6DslIGACbAxN",
        "colab_type": "text"
      },
      "source": [
        "## Follow-up questions"
      ]
    },
    {
      "cell_type": "markdown",
      "metadata": {
        "id": "FqzojFKlbHm9",
        "colab_type": "text"
      },
      "source": [
        "### a). Did we have the right data?\n"
      ]
    },
    {
      "cell_type": "markdown",
      "metadata": {
        "id": "KYL_lSm_bVA-",
        "colab_type": "text"
      },
      "source": [
        "> We believe we had the right data, with the right information in the columns. However, the age column had too many missing values whse value we had to estimate."
      ]
    },
    {
      "cell_type": "markdown",
      "metadata": {
        "id": "p9A15xpobHVS",
        "colab_type": "text"
      },
      "source": [
        "### b). Do we need other data to answer our question?\n"
      ]
    },
    {
      "cell_type": "markdown",
      "metadata": {
        "id": "-tzQPpjgbgxB",
        "colab_type": "text"
      },
      "source": [
        "> We believe that after analysis, our data was relevant enough to answer our question ."
      ]
    },
    {
      "cell_type": "markdown",
      "metadata": {
        "id": "BMb3xkp_bHFu",
        "colab_type": "text"
      },
      "source": [
        "### c). Did we have the right question?"
      ]
    },
    {
      "cell_type": "markdown",
      "metadata": {
        "id": "Nn1lvm1McIku",
        "colab_type": "text"
      },
      "source": [
        "> We can conclude that we had the right question to help us cary out our analysis."
      ]
    }
  ]
}